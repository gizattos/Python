{
  "nbformat": 4,
  "nbformat_minor": 0,
  "metadata": {
    "colab": {
      "name": "Exercícios Python.ipynb",
      "provenance": [],
      "authorship_tag": "ABX9TyNgCP4e3xzzh2qIRoEt/Vtr",
      "include_colab_link": true
    },
    "kernelspec": {
      "name": "python3",
      "display_name": "Python 3"
    }
  },
  "cells": [
    {
      "cell_type": "markdown",
      "metadata": {
        "id": "view-in-github",
        "colab_type": "text"
      },
      "source": [
        "<a href=\"https://colab.research.google.com/github/gizattos/Python/blob/master/Exerc%C3%ADcios_Python.ipynb\" target=\"_parent\"><img src=\"https://colab.research.google.com/assets/colab-badge.svg\" alt=\"Open In Colab\"/></a>"
      ]
    },
    {
      "cell_type": "markdown",
      "metadata": {
        "id": "swualwFh_c8T",
        "colab_type": "text"
      },
      "source": [
        "# Exercícios\n",
        "\n",
        "___\n",
        "\n",
        "1 - Execute as tarefas abaixo:\n",
        "\n",
        "* Crie um arquivo chamado 'predictions.txt' no modo de escrita;\n",
        "* Crie um código que execute as predições de um modelo, fictício, de regressão. Levando em consideração a seguinte fórmula f(x,y,z) = (122*x)+(-0.85*y)+(-39*z)+23;\n",
        "* Utilize o código acima para gerar predições utilizando a lista de listas abaixo:\n",
        "\n",
        "ls = [[12,12,19],[17,15,5],[25,13,13],[15,15,15],[2,2,15],[35,25,15],[8,52,1],[-1,25,2],[23,3,6],[6,8,8],[-15,2,2],[15,15,2],[3,3,6]]\n",
        "\n",
        "* Grave o resultado no arquivo 'predictions.txt', uma predição por lina.\n",
        "\n",
        "2 - Execute as tarefas abaixo:\n",
        "\n",
        "* Abra o arquivo 'lorem.txt' no modo leitura.\n",
        "* Quebre o texto em palavras e monte uma lista com elas.\n",
        "* Elimine das palavras os caracteres abaixo:\n",
        "\n",
        "to_remove = [',','.','\\n\\n']\n",
        "\n",
        "* Avalie o tamanho de cada uma das palavras.\n",
        "* Elimine todas as palavras com tamanho menor que 4 caracteres.\n",
        "* As palavras com tamanho maior ou igual a 4 caracteres devem ser concatenadas com a palavra imediatamente posterior (a primeira palavra deverá ser concatenada com a palavra 'first_' e a última com '_last'). Exemplo:\n",
        "\n",
        "antes = ['lorem','ipsum','lorem','lorem']\n",
        "depois ['first_lorem','ipsum_lorem','lorem_lorem','lorem_last']\n",
        "\n",
        "* Grave o resultado no arquivo 'lorem_altered.txt' em formato de texto.\n",
        "\n",
        "3 - Execute as tarefas abaixo:\n",
        "\n",
        "* Abra o arquivo 'avocado.csv'.\n",
        "* Responda: qual é a média de preço do ano de 2015 (dica: use as colunas AveragePrice e Year).\n",
        "* Escreva o arquivo 'avocado_15.csv' contendo somente as colunas 'Date' e 'AveragePrice' com os dados do ano de 2015."
      ]
    },
    {
      "cell_type": "markdown",
      "metadata": {
        "id": "-BeaCZ8r_m5-",
        "colab_type": "text"
      },
      "source": [
        "<h2>1-</h2>"
      ]
    },
    {
      "cell_type": "code",
      "metadata": {
        "id": "spn51gDF_ri-",
        "colab_type": "code",
        "colab": {
          "base_uri": "https://localhost:8080/",
          "height": 255
        },
        "outputId": "02c1b437-50c2-4fc9-9d95-ef62cecc1d2b"
      },
      "source": [
        "def regressao(x,y,z):\n",
        "  return (122*x)+(-0.85*y)+(-39*z)+23\n",
        "regressao(2,3,4)\n",
        "\n",
        "ls = [[12,12,19],[17,15,5],[25,13,13],[15,15,15],[2,2,15],[35,25,15],[8,52,1],[-1,25,2],[23,3,6],[6,8,8],[-15,2,2],[15,15,2],[3,3,6]]\n",
        "\n",
        "f = open('predictions.txt','w')\n",
        "\n",
        "for x in ls:\n",
        "  f.write(f'{regressao(x[0],x[1],x[2])}\\n')\n",
        "f.close()\n",
        "\n",
        "f = open('predictions.txt','r')\n",
        "texto = f.read()\n",
        "print(texto)\n",
        "f.close()"
      ],
      "execution_count": 16,
      "outputs": [
        {
          "output_type": "stream",
          "text": [
            "735.8\n",
            "1889.25\n",
            "2554.95\n",
            "1255.25\n",
            "-319.7\n",
            "3686.75\n",
            "915.8\n",
            "-198.25\n",
            "2592.45\n",
            "436.20000000000005\n",
            "-1886.7\n",
            "1762.25\n",
            "152.45\n",
            "\n"
          ],
          "name": "stdout"
        }
      ]
    },
    {
      "cell_type": "markdown",
      "metadata": {
        "id": "ThBwHALaDFPA",
        "colab_type": "text"
      },
      "source": [
        "<h2>2-</h2>\n"
      ]
    },
    {
      "cell_type": "code",
      "metadata": {
        "id": "y0PBxg5wDLbN",
        "colab_type": "code",
        "colab": {
          "base_uri": "https://localhost:8080/",
          "height": 54
        },
        "outputId": "2015ffdc-09f9-4ba8-f717-44c4ad96641b"
      },
      "source": [
        "f = open('lorem.txt','r')\n",
        "texto = f.read()\n",
        "elimina = [ (',', ''), ('.', ''), ('\\n\\n', '')]\n",
        "for k, v in elimina:\n",
        "  texto = texto.replace(k, v)\n",
        "print(texto.split())\n"
      ],
      "execution_count": 24,
      "outputs": [
        {
          "output_type": "stream",
          "text": [
            "['Lorem', 'ipsum', 'dolor', 'sit', 'amet', 'consectetur', 'adipiscing', 'elit', 'Aliquam', 'sagittis', 'quis', 'massa', 'sed', 'euismod', 'Aenean', 'at', 'mattis', 'nisl', 'Vestibulum', 'a', 'imperdiet', 'lacus', 'Duis', 'hendrerit', 'justo', 'maximus', 'convallis', 'placerat', 'purus', 'nibh', 'vulputate', 'nibh', 'ac', 'varius', 'libero', 'est', 'eu', 'orci', 'Fusce', 'ac', 'dolor', 'id', 'ex', 'dictum', 'mattis', 'Donec', 'finibus', 'pellentesque', 'ligula', 'et', 'semper', 'tellus', 'varius', 'maximus', 'In', 'rutrum', 'vitae', 'quam', 'nec', 'suscipit', 'Orci', 'varius', 'natoque', 'penatibus', 'et', 'magnis', 'dis', 'parturient', 'montes', 'nascetur', 'ridiculus', 'mus', 'Nullam', 'laoreet', 'dolor', 'non', 'felis', 'tincidunt', 'dignissim', 'Suspendisse', 'lacinia', 'accumsan', 'risus', 'vitae', 'rhoncus', 'Nulla', 'luctus', 'convallis', 'enim', 'ut', 'blandit', 'arcu', 'dignissim', 'at', 'Pellentesque', 'pharetra', 'ornare', 'efficitur', 'In', 'molestie', 'quam', 'in', 'tristique', 'ullamcorper', 'purus', 'nulla', 'accumsan', 'mi', 'et', 'lobortis', 'purus', 'magna', 'quis', 'risus', 'Cras', 'magna', 'ipsum', 'accumsan', 'in', 'purus', 'eget', 'tincidunt', 'feugiat', 'est', 'Proin', 'laoreet', 'velit', 'a', 'nunc', 'ullamcorper', 'variusCras', 'vel', 'pharetra', 'lacus', 'In', 'imperdiet', 'at', 'erat', 'ac', 'suscipit', 'Donec', 'eget', 'urna', 'vel', 'lectus', 'fermentum', 'maximus', 'Quisque', 'eu', 'tempus', 'nisl', 'Sed', 'ultricies', 'lacus', 'quis', 'condimentum', 'efficitur', 'Quisque', 'non', 'metus', 'at', 'eros', 'eleifend', 'eleifend', 'Fusce', 'et', 'semper', 'nisi', 'lobortis', 'consequat', 'erat', 'Praesent', 'condimentum', 'pulvinar', 'nunc', 'in', 'scelerisque', 'Pellentesque', 'habitant', 'morbi', 'tristique', 'senectus', 'et', 'netus', 'et', 'malesuada', 'fames', 'ac', 'turpis', 'egestasDuis', 'in', 'maximus', 'lacus', 'vel', 'eleifend', 'ligula', 'Integer', 'in', 'elementum', 'leo', 'Nam', 'interdum', 'pharetra', 'neque', 'a', 'lacinia', 'arcu', 'Donec', 'scelerisque', 'velit', 'sit', 'amet', 'justo', 'sagittis', 'eu', 'commodo', 'quam', 'viverra', 'Vivamus', 'non', 'est', 'viverra', 'mi', 'vehicula', 'scelerisque', 'Donec', 'id', 'suscipit', 'ligula', 'Nullam', 'condimentum', 'semper', 'elit', 'non', 'accumsan', 'justo', 'consectetur', 'a', 'Quisque', 'non', 'nisl', 'elit', 'Ut', 'ultrices', 'risus', 'ut', 'tortor', 'tincidunt', 'accumsan', 'Curabitur', 'aliquam', 'mi', 'nec', 'mi', 'aliquam', 'lacinia', 'Maecenas', 'eget', 'felis', 'non', 'mi', 'ultrices', 'suscipitInteger', 'purus', 'tortor', 'tincidunt', 'ac', 'augue', 'vitae', 'elementum', 'cursus', 'massa', 'Sed', 'id', 'metus', 'mauris', 'Sed', 'eget', 'vulputate', 'sapien', 'Maecenas', 'ut', 'efficitur', 'metus', 'et', 'venenatis', 'purus', 'Aliquam', 'vel', 'facilisis', 'est', 'a', 'placerat', 'lorem', 'Duis', 'porttitor', 'purus', 'velit', 'nec', 'ultrices', 'felis', 'pharetra', 'in', 'Mauris', 'non', 'tristique', 'odio', 'ac', 'ultrices', 'velit', 'Fusce', 'vitae', 'nisi', 'nec', 'quam', 'ultrices', 'tristique', 'Nullam', 'id', 'nisl', 'dictum', 'commodo', 'sapien', 'a', 'tincidunt', 'lectus', 'Maecenas', 'viverra', 'quam', 'ac', 'nunc', 'convallis', 'sit', 'amet', 'vulputate', 'augue', 'mattis', 'Curabitur', 'eu', 'lorem', 'ligula', 'Pellentesque', 'in', 'lectus', 'libero', 'Nunc', 'quis', 'porttitor', 'sapien', 'a', 'ullamcorper', 'duiVestibulum', 'viverra', 'quis', 'enim', 'non', 'dictum', 'Nullam', 'nec', 'elementum', 'enim', 'Fusce', 'ultrices', 'neque', 'ullamcorper', 'convallis', 'pulvinar', 'Pellentesque', 'ac', 'est', 'ac', 'nisi', 'posuere', 'tincidunt', 'Duis', 'tempor', 'urna', 'elit', 'quis', 'euismod', 'ipsum', 'faucibus', 'vitae', 'Proin', 'lectus', 'ipsum', 'commodo', 'vel', 'fringilla', 'vitae', 'efficitur', 'id', 'ex', 'Ut', 'ante', 'neque', 'luctus', 'quis', 'cursus', 'vel', 'dignissim', 'eu', 'elit', 'Curabitur', 'et', 'eleifend', 'purus', 'Nam', 'eu', 'mollis', 'mauris', 'et', 'lacinia', 'purus', 'Nulla', 'diam', 'ex', 'rhoncus', 'sit', 'amet', 'blandit', 'non', 'luctus', 'quis', 'augue', 'Vivamus', 'ullamcorper', 'ante', 'a', 'mauris', 'dignissim', 'vulputate', 'Fusce', 'ornare', 'ipsum', 'ac', 'ex', 'cursus', 'a', 'commodo', 'mi', 'ornare', 'Aliquam', 'dolor', 'ligula', 'interdum', 'sed', 'dui', 'sit', 'amet', 'malesuada', 'accumsan', 'purus', 'Aliquam', 'consectetur', 'diam', 'nec', 'ante', 'malesuada', 'pulvinar', 'Morbi', 'nec', 'libero', 'turpis', 'Vivamus', 'id', 'velit', 'vitae', 'urna', 'faucibus', 'vehicula']\n"
          ],
          "name": "stdout"
        }
      ]
    }
  ]
}