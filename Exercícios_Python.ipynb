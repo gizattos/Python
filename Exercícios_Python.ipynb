{
  "nbformat": 4,
  "nbformat_minor": 0,
  "metadata": {
    "colab": {
      "name": "Exercícios Python.ipynb",
      "provenance": [],
      "authorship_tag": "ABX9TyMy3W0Cj9Qq5o0ddKoSYVFJ",
      "include_colab_link": true
    },
    "kernelspec": {
      "name": "python3",
      "display_name": "Python 3"
    }
  },
  "cells": [
    {
      "cell_type": "markdown",
      "metadata": {
        "id": "view-in-github",
        "colab_type": "text"
      },
      "source": [
        "<a href=\"https://colab.research.google.com/github/gizattos/Python/blob/master/Exerc%C3%ADcios_Python.ipynb\" target=\"_parent\"><img src=\"https://colab.research.google.com/assets/colab-badge.svg\" alt=\"Open In Colab\"/></a>"
      ]
    },
    {
      "cell_type": "markdown",
      "metadata": {
        "id": "swualwFh_c8T",
        "colab_type": "text"
      },
      "source": [
        "# Exercícios\n",
        "\n",
        "___\n",
        "\n",
        "1 - Execute as tarefas abaixo:\n",
        "\n",
        "* Crie um arquivo chamado 'predictions.txt' no modo de escrita;\n",
        "* Crie um código que execute as predições de um modelo, fictício, de regressão. Levando em consideração a seguinte fórmula f(x,y,z) = (122*x)+(-0.85*y)+(-39*z)+23;\n",
        "* Utilize o código acima para gerar predições utilizando a lista de listas abaixo:\n",
        "\n",
        "ls = [[12,12,19],[17,15,5],[25,13,13],[15,15,15],[2,2,15],[35,25,15],[8,52,1],[-1,25,2],[23,3,6],[6,8,8],[-15,2,2],[15,15,2],[3,3,6]]\n",
        "\n",
        "* Grave o resultado no arquivo 'predictions.txt', uma predição por lina.\n",
        "\n",
        "2 - Execute as tarefas abaixo:\n",
        "\n",
        "* Abra o arquivo 'lorem.txt' no modo leitura.\n",
        "* Quebre o texto em palavras e monte uma lista com elas.\n",
        "* Elimine das palavras os caracteres abaixo:\n",
        "\n",
        "to_remove = [',','.','\\n\\n']\n",
        "\n",
        "* Avalie o tamanho de cada uma das palavras.\n",
        "* Elimine todas as palavras com tamanho menor que 4 caracteres.\n",
        "* As palavras com tamanho maior ou igual a 4 caracteres devem ser concatenadas com a palavra imediatamente posterior (a primeira palavra deverá ser concatenada com a palavra 'first_' e a última com '_last'). Exemplo:\n",
        "\n",
        "antes = ['lorem','ipsum','lorem','lorem']\n",
        "depois ['first_lorem','ipsum_lorem','lorem_lorem','lorem_last']\n",
        "\n",
        "* Grave o resultado no arquivo 'lorem_altered.txt' em formato de texto.\n",
        "\n",
        "3 - Execute as tarefas abaixo:\n",
        "\n",
        "* Abra o arquivo 'avocado.csv'.\n",
        "* Responda: qual é a média de preço do ano de 2015 (dica: use as colunas AveragePrice e Year).\n",
        "* Escreva o arquivo 'avocado_15.csv' contendo somente as colunas 'Date' e 'AveragePrice' com os dados do ano de 2015."
      ]
    },
    {
      "cell_type": "markdown",
      "metadata": {
        "id": "-BeaCZ8r_m5-",
        "colab_type": "text"
      },
      "source": [
        "<h2>1-</h2>"
      ]
    },
    {
      "cell_type": "code",
      "metadata": {
        "id": "spn51gDF_ri-",
        "colab_type": "code",
        "outputId": "02c1b437-50c2-4fc9-9d95-ef62cecc1d2b",
        "colab": {
          "base_uri": "https://localhost:8080/",
          "height": 255
        }
      },
      "source": [
        "def regressao(x,y,z):\n",
        "  return (122*x)+(-0.85*y)+(-39*z)+23\n",
        "regressao(2,3,4)\n",
        "\n",
        "ls = [[12,12,19],[17,15,5],[25,13,13],[15,15,15],[2,2,15],[35,25,15],[8,52,1],[-1,25,2],[23,3,6],[6,8,8],[-15,2,2],[15,15,2],[3,3,6]]\n",
        "\n",
        "f = open('predictions.txt','w')\n",
        "\n",
        "for x in ls:\n",
        "  f.write(f'{regressao(x[0],x[1],x[2])}\\n')\n",
        "f.close()\n",
        "\n",
        "f = open('predictions.txt','r')\n",
        "texto = f.read()\n",
        "print(texto)\n",
        "f.close()"
      ],
      "execution_count": 0,
      "outputs": [
        {
          "output_type": "stream",
          "text": [
            "735.8\n",
            "1889.25\n",
            "2554.95\n",
            "1255.25\n",
            "-319.7\n",
            "3686.75\n",
            "915.8\n",
            "-198.25\n",
            "2592.45\n",
            "436.20000000000005\n",
            "-1886.7\n",
            "1762.25\n",
            "152.45\n",
            "\n"
          ],
          "name": "stdout"
        }
      ]
    },
    {
      "cell_type": "markdown",
      "metadata": {
        "id": "ThBwHALaDFPA",
        "colab_type": "text"
      },
      "source": [
        "<h2>2-</h2>\n"
      ]
    },
    {
      "cell_type": "code",
      "metadata": {
        "id": "y0PBxg5wDLbN",
        "colab_type": "code",
        "outputId": "683d43b6-13f1-4e5b-fdd8-ec2fe7ab1be4",
        "colab": {
          "base_uri": "https://localhost:8080/",
          "height": 71
        }
      },
      "source": [
        "f = open('lorem.txt','r')\n",
        "texto = f.read()\n",
        "elimina = [ (',', ''), ('.', ''), ('\\n\\n', '')]\n",
        "for k, v in elimina:\n",
        "  texto = texto.replace(k, v)\n",
        "texto = texto.split()\n",
        "for x in texto:\n",
        "  if(len(x)<4):\n",
        "    texto.remove(x)\n",
        "print(texto)\n",
        "for x in range(len(texto)):\n",
        "  if(texto[x]==texto[0]):\n",
        "    texto[x]= 'first_'+texto[x]\n",
        "  elif(texto[x]==texto[-1]):\n",
        "    texto[x]= texto[x]+'_last'\n",
        "  else:\n",
        "    texto[x]= texto[x]+'_'+texto[x+1]\n",
        "print (texto)\n",
        "f.close()\n",
        "f = open('lorem_altered.txt','w')\n",
        "for x in texto:\n",
        "  f.write(' '+x)\n",
        "f.close()\n",
        "\n"
      ],
      "execution_count": 0,
      "outputs": [
        {
          "output_type": "stream",
          "text": [
            "['Lorem', 'ipsum', 'dolor', 'amet', 'consectetur', 'adipiscing', 'elit', 'Aliquam', 'sagittis', 'quis', 'massa', 'euismod', 'Aenean', 'mattis', 'nisl', 'Vestibulum', 'imperdiet', 'lacus', 'Duis', 'hendrerit', 'justo', 'maximus', 'convallis', 'placerat', 'purus', 'nibh', 'vulputate', 'nibh', 'varius', 'libero', 'orci', 'Fusce', 'dolor', 'dictum', 'mattis', 'Donec', 'finibus', 'pellentesque', 'ligula', 'semper', 'tellus', 'varius', 'maximus', 'rutrum', 'vitae', 'quam', 'suscipit', 'Orci', 'varius', 'natoque', 'penatibus', 'magnis', 'parturient', 'montes', 'nascetur', 'ridiculus', 'Nullam', 'laoreet', 'dolor', 'felis', 'tincidunt', 'dignissim', 'Suspendisse', 'lacinia', 'accumsan', 'risus', 'vitae', 'rhoncus', 'Nulla', 'luctus', 'convallis', 'enim', 'blandit', 'arcu', 'dignissim', 'Pellentesque', 'pharetra', 'ornare', 'efficitur', 'molestie', 'quam', 'tristique', 'ullamcorper', 'purus', 'nulla', 'accumsan', 'lobortis', 'purus', 'magna', 'quis', 'risus', 'Cras', 'magna', 'ipsum', 'accumsan', 'purus', 'eget', 'tincidunt', 'feugiat', 'Proin', 'laoreet', 'velit', 'nunc', 'ullamcorper', 'variusCras', 'pharetra', 'lacus', 'imperdiet', 'erat', 'suscipit', 'Donec', 'eget', 'urna', 'lectus', 'fermentum', 'maximus', 'Quisque', 'tempus', 'nisl', 'ultricies', 'lacus', 'quis', 'condimentum', 'efficitur', 'Quisque', 'metus', 'eros', 'eleifend', 'eleifend', 'Fusce', 'semper', 'nisi', 'lobortis', 'consequat', 'erat', 'Praesent', 'condimentum', 'pulvinar', 'nunc', 'scelerisque', 'Pellentesque', 'habitant', 'morbi', 'tristique', 'senectus', 'netus', 'malesuada', 'fames', 'turpis', 'egestasDuis', 'maximus', 'lacus', 'eleifend', 'ligula', 'Integer', 'elementum', 'interdum', 'pharetra', 'neque', 'lacinia', 'arcu', 'Donec', 'scelerisque', 'velit', 'amet', 'justo', 'sagittis', 'commodo', 'quam', 'viverra', 'Vivamus', 'viverra', 'vehicula', 'scelerisque', 'Donec', 'suscipit', 'ligula', 'Nullam', 'condimentum', 'semper', 'elit', 'accumsan', 'justo', 'consectetur', 'Quisque', 'nisl', 'elit', 'ultrices', 'risus', 'tortor', 'tincidunt', 'accumsan', 'Curabitur', 'aliquam', 'aliquam', 'lacinia', 'Maecenas', 'eget', 'felis', 'ultrices', 'suscipitInteger', 'purus', 'tortor', 'tincidunt', 'augue', 'vitae', 'elementum', 'cursus', 'massa', 'metus', 'mauris', 'eget', 'vulputate', 'sapien', 'Maecenas', 'efficitur', 'metus', 'venenatis', 'purus', 'Aliquam', 'facilisis', 'est', 'placerat', 'lorem', 'Duis', 'porttitor', 'purus', 'velit', 'ultrices', 'felis', 'pharetra', 'Mauris', 'tristique', 'odio', 'ultrices', 'velit', 'Fusce', 'vitae', 'nisi', 'quam', 'ultrices', 'tristique', 'Nullam', 'nisl', 'dictum', 'commodo', 'sapien', 'tincidunt', 'lectus', 'Maecenas', 'viverra', 'quam', 'nunc', 'convallis', 'amet', 'vulputate', 'augue', 'mattis', 'Curabitur', 'lorem', 'ligula', 'Pellentesque', 'lectus', 'libero', 'Nunc', 'quis', 'porttitor', 'sapien', 'ullamcorper', 'duiVestibulum', 'viverra', 'quis', 'enim', 'dictum', 'Nullam', 'elementum', 'enim', 'Fusce', 'ultrices', 'neque', 'ullamcorper', 'convallis', 'pulvinar', 'Pellentesque', 'est', 'nisi', 'posuere', 'tincidunt', 'Duis', 'tempor', 'urna', 'elit', 'quis', 'euismod', 'ipsum', 'faucibus', 'vitae', 'Proin', 'lectus', 'ipsum', 'commodo', 'fringilla', 'vitae', 'efficitur', 'ex', 'ante', 'neque', 'luctus', 'quis', 'cursus', 'dignissim', 'eu', 'elit', 'Curabitur', 'eleifend', 'purus', 'Nam', 'eu', 'mollis', 'mauris', 'et', 'lacinia', 'purus', 'Nulla', 'diam', 'ex', 'rhoncus', 'amet', 'blandit', 'luctus', 'quis', 'augue', 'Vivamus', 'ullamcorper', 'ante', 'mauris', 'dignissim', 'vulputate', 'Fusce', 'ornare', 'ipsum', 'ex', 'cursus', 'a', 'commodo', 'mi', 'ornare', 'Aliquam', 'dolor', 'ligula', 'interdum', 'dui', 'amet', 'malesuada', 'accumsan', 'purus', 'Aliquam', 'consectetur', 'diam', 'ante', 'malesuada', 'pulvinar', 'Morbi', 'nec', 'libero', 'turpis', 'Vivamus', 'id', 'velit', 'vitae', 'urna', 'faucibus', 'vehicula']\n",
            "['first_Lorem', 'ipsum_dolor', 'dolor_amet', 'amet_consectetur', 'consectetur_adipiscing', 'adipiscing_elit', 'elit_Aliquam', 'Aliquam_sagittis', 'sagittis_quis', 'quis_massa', 'massa_euismod', 'euismod_Aenean', 'Aenean_mattis', 'mattis_nisl', 'nisl_Vestibulum', 'Vestibulum_imperdiet', 'imperdiet_lacus', 'lacus_Duis', 'Duis_hendrerit', 'hendrerit_justo', 'justo_maximus', 'maximus_convallis', 'convallis_placerat', 'placerat_purus', 'purus_nibh', 'nibh_vulputate', 'vulputate_nibh', 'nibh_varius', 'varius_libero', 'libero_orci', 'orci_Fusce', 'Fusce_dolor', 'dolor_dictum', 'dictum_mattis', 'mattis_Donec', 'Donec_finibus', 'finibus_pellentesque', 'pellentesque_ligula', 'ligula_semper', 'semper_tellus', 'tellus_varius', 'varius_maximus', 'maximus_rutrum', 'rutrum_vitae', 'vitae_quam', 'quam_suscipit', 'suscipit_Orci', 'Orci_varius', 'varius_natoque', 'natoque_penatibus', 'penatibus_magnis', 'magnis_parturient', 'parturient_montes', 'montes_nascetur', 'nascetur_ridiculus', 'ridiculus_Nullam', 'Nullam_laoreet', 'laoreet_dolor', 'dolor_felis', 'felis_tincidunt', 'tincidunt_dignissim', 'dignissim_Suspendisse', 'Suspendisse_lacinia', 'lacinia_accumsan', 'accumsan_risus', 'risus_vitae', 'vitae_rhoncus', 'rhoncus_Nulla', 'Nulla_luctus', 'luctus_convallis', 'convallis_enim', 'enim_blandit', 'blandit_arcu', 'arcu_dignissim', 'dignissim_Pellentesque', 'Pellentesque_pharetra', 'pharetra_ornare', 'ornare_efficitur', 'efficitur_molestie', 'molestie_quam', 'quam_tristique', 'tristique_ullamcorper', 'ullamcorper_purus', 'purus_nulla', 'nulla_accumsan', 'accumsan_lobortis', 'lobortis_purus', 'purus_magna', 'magna_quis', 'quis_risus', 'risus_Cras', 'Cras_magna', 'magna_ipsum', 'ipsum_accumsan', 'accumsan_purus', 'purus_eget', 'eget_tincidunt', 'tincidunt_feugiat', 'feugiat_Proin', 'Proin_laoreet', 'laoreet_velit', 'velit_nunc', 'nunc_ullamcorper', 'ullamcorper_variusCras', 'variusCras_pharetra', 'pharetra_lacus', 'lacus_imperdiet', 'imperdiet_erat', 'erat_suscipit', 'suscipit_Donec', 'Donec_eget', 'eget_urna', 'urna_lectus', 'lectus_fermentum', 'fermentum_maximus', 'maximus_Quisque', 'Quisque_tempus', 'tempus_nisl', 'nisl_ultricies', 'ultricies_lacus', 'lacus_quis', 'quis_condimentum', 'condimentum_efficitur', 'efficitur_Quisque', 'Quisque_metus', 'metus_eros', 'eros_eleifend', 'eleifend_eleifend', 'eleifend_Fusce', 'Fusce_semper', 'semper_nisi', 'nisi_lobortis', 'lobortis_consequat', 'consequat_erat', 'erat_Praesent', 'Praesent_condimentum', 'condimentum_pulvinar', 'pulvinar_nunc', 'nunc_scelerisque', 'scelerisque_Pellentesque', 'Pellentesque_habitant', 'habitant_morbi', 'morbi_tristique', 'tristique_senectus', 'senectus_netus', 'netus_malesuada', 'malesuada_fames', 'fames_turpis', 'turpis_egestasDuis', 'egestasDuis_maximus', 'maximus_lacus', 'lacus_eleifend', 'eleifend_ligula', 'ligula_Integer', 'Integer_elementum', 'elementum_interdum', 'interdum_pharetra', 'pharetra_neque', 'neque_lacinia', 'lacinia_arcu', 'arcu_Donec', 'Donec_scelerisque', 'scelerisque_velit', 'velit_amet', 'amet_justo', 'justo_sagittis', 'sagittis_commodo', 'commodo_quam', 'quam_viverra', 'viverra_Vivamus', 'Vivamus_viverra', 'viverra_vehicula', 'vehicula_last', 'scelerisque_Donec', 'Donec_suscipit', 'suscipit_ligula', 'ligula_Nullam', 'Nullam_condimentum', 'condimentum_semper', 'semper_elit', 'elit_accumsan', 'accumsan_justo', 'justo_consectetur', 'consectetur_Quisque', 'Quisque_nisl', 'nisl_elit', 'elit_ultrices', 'ultrices_risus', 'risus_tortor', 'tortor_tincidunt', 'tincidunt_accumsan', 'accumsan_Curabitur', 'Curabitur_aliquam', 'aliquam_aliquam', 'aliquam_lacinia', 'lacinia_Maecenas', 'Maecenas_eget', 'eget_felis', 'felis_ultrices', 'ultrices_suscipitInteger', 'suscipitInteger_purus', 'purus_tortor', 'tortor_tincidunt', 'tincidunt_augue', 'augue_vitae', 'vitae_elementum', 'elementum_cursus', 'cursus_massa', 'massa_metus', 'metus_mauris', 'mauris_eget', 'eget_vulputate', 'vulputate_sapien', 'sapien_Maecenas', 'Maecenas_efficitur', 'efficitur_metus', 'metus_venenatis', 'venenatis_purus', 'purus_Aliquam', 'Aliquam_facilisis', 'facilisis_est', 'est_placerat', 'placerat_lorem', 'lorem_Duis', 'Duis_porttitor', 'porttitor_purus', 'purus_velit', 'velit_ultrices', 'ultrices_felis', 'felis_pharetra', 'pharetra_Mauris', 'Mauris_tristique', 'tristique_odio', 'odio_ultrices', 'ultrices_velit', 'velit_Fusce', 'Fusce_vitae', 'vitae_nisi', 'nisi_quam', 'quam_ultrices', 'ultrices_tristique', 'tristique_Nullam', 'Nullam_nisl', 'nisl_dictum', 'dictum_commodo', 'commodo_sapien', 'sapien_tincidunt', 'tincidunt_lectus', 'lectus_Maecenas', 'Maecenas_viverra', 'viverra_quam', 'quam_nunc', 'nunc_convallis', 'convallis_amet', 'amet_vulputate', 'vulputate_augue', 'augue_mattis', 'mattis_Curabitur', 'Curabitur_lorem', 'lorem_ligula', 'ligula_Pellentesque', 'Pellentesque_lectus', 'lectus_libero', 'libero_Nunc', 'Nunc_quis', 'quis_porttitor', 'porttitor_sapien', 'sapien_ullamcorper', 'ullamcorper_duiVestibulum', 'duiVestibulum_viverra', 'viverra_quis', 'quis_enim', 'enim_dictum', 'dictum_Nullam', 'Nullam_elementum', 'elementum_enim', 'enim_Fusce', 'Fusce_ultrices', 'ultrices_neque', 'neque_ullamcorper', 'ullamcorper_convallis', 'convallis_pulvinar', 'pulvinar_Pellentesque', 'Pellentesque_est', 'est_nisi', 'nisi_posuere', 'posuere_tincidunt', 'tincidunt_Duis', 'Duis_tempor', 'tempor_urna', 'urna_elit', 'elit_quis', 'quis_euismod', 'euismod_ipsum', 'ipsum_faucibus', 'faucibus_vitae', 'vitae_Proin', 'Proin_lectus', 'lectus_ipsum', 'ipsum_commodo', 'commodo_fringilla', 'fringilla_vitae', 'vitae_efficitur', 'efficitur_ex', 'ex_ante', 'ante_neque', 'neque_luctus', 'luctus_quis', 'quis_cursus', 'cursus_dignissim', 'dignissim_eu', 'eu_elit', 'elit_Curabitur', 'Curabitur_eleifend', 'eleifend_purus', 'purus_Nam', 'Nam_eu', 'eu_mollis', 'mollis_mauris', 'mauris_et', 'et_lacinia', 'lacinia_purus', 'purus_Nulla', 'Nulla_diam', 'diam_ex', 'ex_rhoncus', 'rhoncus_amet', 'amet_blandit', 'blandit_luctus', 'luctus_quis', 'quis_augue', 'augue_Vivamus', 'Vivamus_ullamcorper', 'ullamcorper_ante', 'ante_mauris', 'mauris_dignissim', 'dignissim_vulputate', 'vulputate_Fusce', 'Fusce_ornare', 'ornare_ipsum', 'ipsum_ex', 'ex_cursus', 'cursus_a', 'a_commodo', 'commodo_mi', 'mi_ornare', 'ornare_Aliquam', 'Aliquam_dolor', 'dolor_ligula', 'ligula_interdum', 'interdum_dui', 'dui_amet', 'amet_malesuada', 'malesuada_accumsan', 'accumsan_purus', 'purus_Aliquam', 'Aliquam_consectetur', 'consectetur_diam', 'diam_ante', 'ante_malesuada', 'malesuada_pulvinar', 'pulvinar_Morbi', 'Morbi_nec', 'nec_libero', 'libero_turpis', 'turpis_Vivamus', 'Vivamus_id', 'id_velit', 'velit_vitae', 'vitae_urna', 'urna_faucibus', 'faucibus_vehicula', 'vehicula_last']\n"
          ],
          "name": "stdout"
        }
      ]
    },
    {
      "cell_type": "markdown",
      "metadata": {
        "id": "q5DPOEjgNGW7",
        "colab_type": "text"
      },
      "source": [
        "<h2>3-</h2>"
      ]
    },
    {
      "cell_type": "code",
      "metadata": {
        "id": "FzBiPH-pNJgp",
        "colab_type": "code",
        "colab": {
          "base_uri": "https://localhost:8080/",
          "height": 34
        },
        "outputId": "2805cd52-4c21-495d-b538-47d5a0e63d8e"
      },
      "source": [
        "import pandas as pd\n",
        "df = pd.read_csv('avocado.csv')\n",
        "filtroAno = df[(df['year']==2015)]\n",
        "print('Média de 2015 : ',filtroAno['AveragePrice'].mean())\n",
        "df[['year','AveragePrice']].to_csv(r'avocado_15.csv')\n"
      ],
      "execution_count": 46,
      "outputs": [
        {
          "output_type": "stream",
          "text": [
            "Média de 2015 :  1.3755903829029397\n"
          ],
          "name": "stdout"
        }
      ]
    }
  ]
}