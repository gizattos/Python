{
 "cells": [
  {
   "cell_type": "code",
   "execution_count": 70,
   "metadata": {},
   "outputs": [],
   "source": [
    "import time\n",
    "from selenium import webdriver\n",
    "username = 'username'\n",
    "password = 'password!'\n",
    "chromedriver_path = 'C:/webdrivers/chromedriver.exe'\n",
    "url= 'https://www.tradingview.com/chart/k8pTlJKH/#signin'"
   ]
  },
  {
   "cell_type": "code",
   "execution_count": 71,
   "metadata": {},
   "outputs": [],
   "source": [
    "def open_browser(chromedriver_path):\n",
    "    chrome_options = webdriver.ChromeOptions()\n",
    "    \n",
    "    preferences = {'download.prompt_for_download' : False,\n",
    "                   'download.default_directory':r'C:\\acao\\\\' ,\n",
    "                   'download.directory_upgrade': True,\n",
    "                   'profile.default_content_settings.popups':0,\n",
    "                   'profile.default_content_setting_values.notifications':2,\n",
    "                   'profile.default_content_setting_values.automatic_donwloads':1\n",
    "                  }\n",
    "    chrome_options.add_experimental_option('prefs',preferences)\n",
    "    driver = webdriver.Chrome(executable_path=chromedriver_path,\n",
    "                             options=chrome_options)\n",
    "\n",
    "    return driver\n",
    "driver_1 = open_browser(chromedriver_path)\n",
    "\n",
    "      "
   ]
  },
  {
   "cell_type": "code",
   "execution_count": 72,
   "metadata": {},
   "outputs": [],
   "source": [
    "def site_login(username,password,url,driver):\n",
    "    driver.get(url)\n",
    "    ##driver.find_element_by_class_name('tv-dialog__close').click()\n",
    "    driver.find_element_by_class_name('js-show-email').click()\n",
    "    driver.find_element_by_name('username').send_keys(username)\n",
    "    driver.find_element_by_name('password').send_keys(password)\n",
    "    driver.find_element_by_class_name('tv-button--thin-border').click()\n",
    "    time.sleep(10)\n",
    "    return driver\n",
    "driver_2 = site_login(username,password,url,driver_1)"
   ]
  },
  {
   "cell_type": "code",
   "execution_count": 73,
   "metadata": {},
   "outputs": [],
   "source": [
    "def get_csv(driver):\n",
    "    driver.find_element_by_xpath('//div[@title=\"Export screener data to a CSV file\"]').click()\n",
    "    \n",
    "get_csv(driver_2)"
   ]
  },
  {
   "cell_type": "code",
   "execution_count": null,
   "metadata": {},
   "outputs": [],
   "source": []
  }
 ],
 "metadata": {
  "kernelspec": {
   "display_name": "Python 3",
   "language": "python",
   "name": "python3"
  },
  "language_info": {
   "codemirror_mode": {
    "name": "ipython",
    "version": 3
   },
   "file_extension": ".py",
   "mimetype": "text/x-python",
   "name": "python",
   "nbconvert_exporter": "python",
   "pygments_lexer": "ipython3",
   "version": "3.7.6"
  }
 },
 "nbformat": 4,
 "nbformat_minor": 4
}
