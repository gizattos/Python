{
  "nbformat": 4,
  "nbformat_minor": 0,
  "metadata": {
    "kernelspec": {
      "display_name": "Python 3",
      "language": "python",
      "name": "python3"
    },
    "language_info": {
      "codemirror_mode": {
        "name": "ipython",
        "version": 3
      },
      "file_extension": ".py",
      "mimetype": "text/x-python",
      "name": "python",
      "nbconvert_exporter": "python",
      "pygments_lexer": "ipython3",
      "version": "3.7.1"
    },
    "colab": {
      "name": "grafos.ipynb",
      "provenance": [],
      "include_colab_link": true
    }
  },
  "cells": [
    {
      "cell_type": "markdown",
      "metadata": {
        "id": "view-in-github",
        "colab_type": "text"
      },
      "source": [
        "<a href=\"https://colab.research.google.com/github/gizattos/Python/blob/master/grafos_tiagobaroni.ipynb\" target=\"_parent\"><img src=\"https://colab.research.google.com/assets/colab-badge.svg\" alt=\"Open In Colab\"/></a>"
      ]
    },
    {
      "cell_type": "markdown",
      "metadata": {
        "id": "9aclNm76sygi",
        "colab_type": "text"
      },
      "source": [
        "# Grafos em Python\n",
        "\n",
        "## 1. Uma breve introdução sobre os grafos\n",
        "\n",
        "A teoria dos grafos é um ramo da matemática, bastante usado na computação - e, por consequencia, na Ciência de Dados - que estuda as relações entre os objetos de um determinado conjunto. \n",
        "\n",
        "Em essência, podemos considerar que os grafos são uma maneira para representar, formalmente, uma rede ou uma coleção de objetos que se relacionam entre si. Notem que, nesse ponto, eu usei o termo *relacionamento* e não *conexão*. Isso porque nem sempre os objetos unidos através de um grafo possuem uma união física, permitindo que sejam representadas conexões etérias. Vejamos os exemplos:\n",
        "\n",
        "1. Grafos com relacionamentos não etérios/físicos: cidades ligadas por rodovias;\n",
        "![Imagem de um grafo rodoviário](https://www.researchgate.net/profile/Christopher_Applegate/publication/220862151/figure/fig2/AS:305559283748866@1449862418553/Identified-junctions-on-the-road-graph-Blue-points-indicate-junctions-with-three-or-more.png) [Fonte](https://www.researchgate.net/figure/Identified-junctions-on-the-road-graph-Blue-points-indicate-junctions-with-three-or-more_fig2_220862151)\n",
        "1. Grafos com relacionamentos etérios/não físicos: pessoas e grupos de pessoas que se relacionam através de redes sociais. \n",
        "![Imagem de um grafo de relacionamentos sociais](https://miro.medium.com/max/875/1*fJTuz00TB7Kel-pzP4_uNA.png) [Fonte](https://www.kdnuggets.com/2019/08/neighbours-machine-learning-graphs.html)\n",
        "\n",
        "Na teoria matemática, grafos são compostos por dois elementos, essenscialmente:\n",
        "\n",
        "1. Vértices ou nós;\n",
        "1. Arestas.\n",
        "\n",
        "Vejamos o exemplo abaixo:\n",
        "\n",
        "![Imagem de um grafo](https://i.stack.imgur.com/eRHjP.png) [Fonte](https://tex.stackexchange.com/questions/45734/drawing-graphs-in-latex)\n",
        "\n",
        "Como os nomes sugerem, os '*nós*' de um grafo são os pontos unidos através de uma conexão, que é chamada de '*aresta*'. Dependendo da aplicação, arestas podem ou não ter direção, pode ser permitido ou não arestas ligarem um vértice a ele próprio e vértices e/ou arestas podem ter um peso (*numérico*) associado. Se as arestas têm uma direção associada (*indicada por uma seta na representação gráfica*) temos um **dígrafo** (*grafo orientado*). Um grafo com um único vértice e sem arestas é conhecido como **grafo trivial**.\n",
        "\n",
        "Racionalizando, de maneira bastante conscisa, uma árvore, objeto anteriormente abordado em nossas aulas, pode ser considerado como um grafo com regras e restrições associadas.\n",
        "\n",
        "### 1.1 Uma breve história dos grafos\n",
        "\n",
        "O termo **grafo** foi usado pela primeira vez por *James Joseph Sylvester* num artigo publicado em 1877, na  revista *Nature*. No entanto, apesar desta ser a primeira data de referência ao termo grafo e de sua de noção formal, uma aplicação prática para o conceito apareceu somente no século XX, na resolução de **Euler** do **Problema das Pontes de Königsberg**, publicada em 1736.\n",
        "\n",
        "O problema é baseado na cidade de Königsberg (*território da Prússia até 1945, atual Kaliningrado*), que é cortada pelo Rio Prególia, onde há duas grandes ilhas que, juntas, formam um complexo que na época continha sete pontes. Das sete pontes originais, uma foi demolida e reconstruída em 1935, duas foram destruídas durante a Segunda Guerra Mundial e outras duas foram demolidas para dar lugar a uma única via expressa. Atualmente apenas duas pontes são da época de Leonhard Euler.\n",
        "\n",
        "\n",
        "![Koninsberg](http://3.bp.blogspot.com/-c2NSZ7ueCEI/UdmvROPWbHI/AAAAAAAAAjU/EDGAGkmSHRw/w1200-h630-p-k-no-nu/Konigsberg_colour.jpg) [Fonte](http://linguaafiadamenteapurada.blogspot.com/2013/06/sete-pontes-de-konigsberg-sete-pontes.html)\n",
        "\n",
        "Discutia-se nas ruas da cidade a possibilidade de atravessar todas as pontes sem repetir nenhuma. Havia-se tornado uma lenda popular a possibilidade da façanha quando Euler, em 1736, provou que não existia caminho que possibilitasse os referidos movimentos com as restrições impostas.\n",
        "\n",
        "Euler usou um raciocínio muito simples. Transformou os caminhos em retas (*arestas*) e suas intersecções em pontos (*nós*), criando possivelmente o primeiro grafo da história. Então percebeu que **só seria possível atravessar o caminho inteiro passando uma única vez em cada ponte se houvesse exatamente zero ou dois pontos de onde saísse um número ímpar de caminhos**.\n",
        "\n",
        "![Grafo de Koninsberg](http://s.glbimg.com/og/rg/f/original/2011/12/09/pontes_grafo_291_218.jpg) [Fonte](http://s.glbimg.com/og/rg/f/original/2011/12/09/pontes_grafo_291_218.jpg)\n",
        "\n",
        "A razão de tal coisa é que de cada ponto deve haver um número par de caminhos, pois será preciso um caminho para \"entrar\" e outro para \"sair\". Os dois pontos com caminhos ímpares referem-se ao início e ao final do percurso, pois estes não precisam de um para entrar e um para sair, respectivamente. Se não houver pontos com número ímpar de caminhos, pode-se (e deve-se) iniciar e terminar o trajeto no mesmo ponto, podendo esse ser qualquer ponto do grafo. Isso não é possível quando temos dois pontos com números ímpares de caminhos, sendo obrigatoriamente um o início e outro o fim.\n",
        "\n",
        "[Fonte](https://repositorio.ufpb.br/jspui/bitstream/tede/7549/5/arquivototal.pdf)\n",
        "\n",
        "## 2. Definições gerais\n",
        "\n",
        "Aqui estão elencadas apenas as definições mais triviais, estando **longe** de representar a totalidade das definições sobre grafos. Recomendo a leitura deste [site](https://www.inf.ufsc.br/grafos/definicoes/definicao.html) e desta [apostila](https://www.ime.usp.br/~yw/publications/books/TeoriaDosGrafos.pdf). Para aqueles que quiserem se aprofundar ainda mais, deste [livro](https://www.amazon.com.br/Grafos-Marco-Goldbarg/dp/8535257160).\n",
        "\n",
        "### 2.1 Definição 1\n",
        "Um *grafo simples* consistem de um conjunto finito e não vazio de objetos (vértices e arestas), representado por $G(V, E)$. Toda aresta fechada de $E$ se relaciona apenas com um ponto de $V$, em oposição das arestas abertas que se relacionam com exatamente dois pontos de $V$.\n",
        "\n",
        "* Laços são arestas que começa e termina no mesmo vértice;\n",
        "* Grafo dirigido ou dígrafos são grafos cujas arestas possuem informações de sentido;\n",
        "* Arestas múltiplas são possíveis em grafos;\n",
        "\n",
        "### 2.2 Definição 2\n",
        "Um *pseudografo* é um grafo que possui, pelo menos, um laço.\n",
        "\n",
        "### 2.3 Definição 3\n",
        "Um *multigrafo* é um grafo que possui arestas múltiplas ligando seus nós;\n",
        "\n",
        "### 2.4 Definição 4\n",
        "Um *grafo trivial* é um grafo que possui apenas vértices, sem aresta alguma ligando eles (como pontos representados em um espaço plano).\n",
        "\n"
      ]
    },
    {
      "cell_type": "markdown",
      "metadata": {
        "id": "oAzYjXe4sygj",
        "colab_type": "text"
      },
      "source": [
        "## 3. Finalmente, grafos em Python"
      ]
    },
    {
      "cell_type": "markdown",
      "metadata": {
        "id": "n0SOh3JJsygk",
        "colab_type": "text"
      },
      "source": [
        "O Python possui uma biblioteca para trabalhar com grafos, chamada [NetworkX](https://networkx.github.io/documentation/stable/index.html)"
      ]
    },
    {
      "cell_type": "code",
      "metadata": {
        "id": "1V0PKY85sygk",
        "colab_type": "code",
        "colab": {}
      },
      "source": [
        "#Caso não possua a biblioteca, faz a instalação\n",
        "!pip install networkx\n",
        "\n",
        "import networkx as nx\n",
        "\n",
        "#Crio um novo objeto Grafo com o nome G\n",
        "G = nx.Graph()"
      ],
      "execution_count": null,
      "outputs": []
    },
    {
      "cell_type": "markdown",
      "metadata": {
        "id": "CNBVpdgasygn",
        "colab_type": "text"
      },
      "source": [
        "### 3.1 Adicionando Nós"
      ]
    },
    {
      "cell_type": "code",
      "metadata": {
        "id": "-JozcSfnsygo",
        "colab_type": "code",
        "colab": {}
      },
      "source": [
        "G.add_node(1)"
      ],
      "execution_count": null,
      "outputs": []
    },
    {
      "cell_type": "code",
      "metadata": {
        "id": "lY_j0uT2sygr",
        "colab_type": "code",
        "colab": {}
      },
      "source": [
        "G.add_nodes_from([2, 3])"
      ],
      "execution_count": null,
      "outputs": []
    },
    {
      "cell_type": "markdown",
      "metadata": {
        "id": "H7KMJEr4sygt",
        "colab_type": "text"
      },
      "source": [
        "### 3.2 Arestas\n"
      ]
    },
    {
      "cell_type": "code",
      "metadata": {
        "id": "HSbs5KLJsygu",
        "colab_type": "code",
        "colab": {}
      },
      "source": [
        "G.add_edge(1, 2)\n",
        "e = (2, 3)\n",
        "G.add_edge(*e)  # unpack edge tuple*"
      ],
      "execution_count": null,
      "outputs": []
    },
    {
      "cell_type": "code",
      "metadata": {
        "id": "FsGKItx_sygw",
        "colab_type": "code",
        "colab": {}
      },
      "source": [
        "G.add_edges_from([(1, 2), (1, 3)])"
      ],
      "execution_count": null,
      "outputs": []
    },
    {
      "cell_type": "markdown",
      "metadata": {
        "id": "GTKn6qbCsygy",
        "colab_type": "text"
      },
      "source": [
        "Também é possível limpar todos os nós e arestas adicionados anteriormente ao grafo"
      ]
    },
    {
      "cell_type": "code",
      "metadata": {
        "id": "JwFatyJnsygz",
        "colab_type": "code",
        "colab": {}
      },
      "source": [
        "G.clear()"
      ],
      "execution_count": null,
      "outputs": []
    },
    {
      "cell_type": "code",
      "metadata": {
        "id": "ZS0PPIgDsyg1",
        "colab_type": "code",
        "colab": {}
      },
      "source": [
        "G.add_edges_from([(1, 2), (1, 3)])\n",
        "G.add_node(1)\n",
        "G.add_edge(1, 2)\n",
        "G.add_node(\"spam\")        # adds node \"spam\"\n",
        "G.add_nodes_from(\"spam\")  # adds 4 nodes: 's', 'p', 'a', 'm'\n",
        "G.add_edge(3, 'm')"
      ],
      "execution_count": null,
      "outputs": []
    },
    {
      "cell_type": "markdown",
      "metadata": {
        "id": "oudpP86nsyg4",
        "colab_type": "text"
      },
      "source": [
        "Nesse ponto o grafo `G` possui 8 nós e 3 arestas"
      ]
    },
    {
      "cell_type": "code",
      "metadata": {
        "id": "4475vdKRsyg5",
        "colab_type": "code",
        "colab": {}
      },
      "source": [
        "print(G.number_of_nodes())\n",
        "print(G.number_of_edges())"
      ],
      "execution_count": null,
      "outputs": []
    },
    {
      "cell_type": "code",
      "metadata": {
        "id": "0Yq1_I8Ssyg8",
        "colab_type": "code",
        "colab": {}
      },
      "source": [
        "print(list(G.nodes))\n",
        "print(list(G.edges))\n",
        "print(list(G.adj[1]))  # or list(G.neighbors(1))\n",
        "print(G.degree[1])  # the number of edges incident to 1"
      ],
      "execution_count": null,
      "outputs": []
    },
    {
      "cell_type": "code",
      "metadata": {
        "id": "tquxM8Hlsyg-",
        "colab_type": "code",
        "colab": {}
      },
      "source": [
        "print(G.edges([2, 'm']))\n",
        "print(G.degree([2, 3]))"
      ],
      "execution_count": null,
      "outputs": []
    },
    {
      "cell_type": "markdown",
      "metadata": {
        "id": "9mgjNREQsyhA",
        "colab_type": "text"
      },
      "source": [
        "Podemos remover nós e arestas usando modos similares à inserção.\n",
        "Usando\n",
        "`Graph.remove_node()`,\n",
        "`Graph.remove_nodes_from()`,\n",
        "`Graph.remove_edge()`\n",
        "e\n",
        "`Graph.remove_edges_from()`."
      ]
    },
    {
      "cell_type": "code",
      "metadata": {
        "id": "uO2CF2rxsyhB",
        "colab_type": "code",
        "colab": {}
      },
      "source": [
        "G.remove_node(2)\n",
        "G.remove_nodes_from(\"spam\")\n",
        "list(G.nodes)\n",
        "G.remove_edge(1, 3)"
      ],
      "execution_count": null,
      "outputs": []
    },
    {
      "cell_type": "markdown",
      "metadata": {
        "id": "xVwfk-gSsyhD",
        "colab_type": "text"
      },
      "source": [
        "Ao criar uma estrutura de grafo instanciando um dos grafos pré-estabelecido, você pode especificar dados em vários formatos."
      ]
    },
    {
      "cell_type": "code",
      "metadata": {
        "id": "1WFsYbiJsyhD",
        "colab_type": "code",
        "colab": {}
      },
      "source": [
        "G.add_edge(1, 2)\n",
        "H = nx.DiGraph(G)   # create a DiGraph using the connections from G\n",
        "print(list(H.edges()))\n",
        "edgelist = [(0, 1), (1, 2), (2, 3)]\n",
        "H = nx.Graph(edgelist)"
      ],
      "execution_count": null,
      "outputs": []
    },
    {
      "cell_type": "markdown",
      "metadata": {
        "id": "bMliBm7wsyhF",
        "colab_type": "text"
      },
      "source": [
        "### 3.3 Acessando arestas e vizinhanças\n",
        "\n",
        "Adicionalmente `Graph.edges()` e `Graph.adj()`,\n",
        "possibilitam acessos às arestas e suas adjacências"
      ]
    },
    {
      "cell_type": "code",
      "metadata": {
        "id": "M_gPCV5fsyhG",
        "colab_type": "code",
        "colab": {}
      },
      "source": [
        "G[1]  # same as G.adj[1]\n",
        "G[1][2]\n",
        "G.edges[1, 2]"
      ],
      "execution_count": null,
      "outputs": []
    },
    {
      "cell_type": "markdown",
      "metadata": {
        "id": "VOHyLTChsyhI",
        "colab_type": "text"
      },
      "source": [
        "Você pode obter/definir os atributos de uma aresta usando notação subscrita\n",
        "se o nó já existir."
      ]
    },
    {
      "cell_type": "code",
      "metadata": {
        "id": "0FL1h0d5syhI",
        "colab_type": "code",
        "colab": {}
      },
      "source": [
        "G.add_edge(1, 3)\n",
        "G[1][3]['color'] = \"blue\"\n",
        "G.edges[1, 2]['color'] = \"red\""
      ],
      "execution_count": null,
      "outputs": []
    },
    {
      "cell_type": "code",
      "metadata": {
        "id": "4_pJcW9ksyhL",
        "colab_type": "code",
        "colab": {}
      },
      "source": [
        "FG = nx.Graph()\n",
        "FG.add_weighted_edges_from([(1, 2, 0.125), (1, 3, 0.75), (2, 4, 1.2), (3, 4, 0.375)])\n",
        "for n, nbrs in FG.adj.items():\n",
        "   for nbr, eattr in nbrs.items():\n",
        "       wt = eattr['weight']\n",
        "       if wt < 0.5: print('(%d, %d, %.3f)' % (n, nbr, wt))"
      ],
      "execution_count": null,
      "outputs": []
    },
    {
      "cell_type": "markdown",
      "metadata": {
        "id": "Z3wZZd4dsyhN",
        "colab_type": "text"
      },
      "source": [
        "O acesso conveniente a todas as arestas é obtido com a propriedade das arestas."
      ]
    },
    {
      "cell_type": "code",
      "metadata": {
        "id": "hgeSTkE2syhO",
        "colab_type": "code",
        "colab": {}
      },
      "source": [
        "for (u, v, wt) in FG.edges.data('weight'):\n",
        "    if wt < 0.5: print('(%d, %d, %.3f)' % (u, v, wt))"
      ],
      "execution_count": null,
      "outputs": []
    },
    {
      "cell_type": "markdown",
      "metadata": {
        "id": "-l-WrBmfsyhQ",
        "colab_type": "text"
      },
      "source": [
        "### 3.4 Adicionando atributos a gráficos, nós e arestas\n",
        "\n",
        "Atributos como pesos, rótulos, cores ou qualquer objeto Python que você desejar,\n",
        "pode ser anexado aos grafos, nós ou arestas."
      ]
    },
    {
      "cell_type": "code",
      "metadata": {
        "id": "npGrzQpKsyhQ",
        "colab_type": "code",
        "colab": {}
      },
      "source": [
        "G = nx.Graph(day=\"Friday\")\n",
        "G.graph"
      ],
      "execution_count": null,
      "outputs": []
    },
    {
      "cell_type": "markdown",
      "metadata": {
        "id": "XvCmNixUsyhS",
        "colab_type": "text"
      },
      "source": [
        "Or you can modify attributes later"
      ]
    },
    {
      "cell_type": "code",
      "metadata": {
        "id": "zGlCRGilsyhT",
        "colab_type": "code",
        "colab": {}
      },
      "source": [
        "G.graph['day'] = \"Monday\"\n",
        "G.graph"
      ],
      "execution_count": null,
      "outputs": []
    },
    {
      "cell_type": "markdown",
      "metadata": {
        "id": "CUiukc3AsyhU",
        "colab_type": "text"
      },
      "source": [
        "#### 3.4.1 Atributos dos Nós\n",
        "\n",
        "Adicionando atributos de Nós usando `add_node()`, `add_nodes_from()` ou `G.nodes`"
      ]
    },
    {
      "cell_type": "code",
      "metadata": {
        "id": "rI0988zzsyhV",
        "colab_type": "code",
        "colab": {}
      },
      "source": [
        "G.add_node(1, time='5pm')\n",
        "G.add_nodes_from([3], time='2pm')\n",
        "G.nodes[1]\n",
        "G.nodes[1]['room'] = 714\n",
        "G.nodes.data()"
      ],
      "execution_count": null,
      "outputs": []
    },
    {
      "cell_type": "markdown",
      "metadata": {
        "id": "AXbE_9fosyhX",
        "colab_type": "text"
      },
      "source": [
        "#### 3.4.2 Atributos das arestas\n"
      ]
    },
    {
      "cell_type": "code",
      "metadata": {
        "id": "AlBRLJfasyhX",
        "colab_type": "code",
        "colab": {}
      },
      "source": [
        "G.add_edge(1, 2, weight=4.7 )\n",
        "G.add_edges_from([(3, 4), (4, 5)], color='red')\n",
        "G.add_edges_from([(1, 2, {'color': 'blue'}), (2, 3, {'weight': 8})])\n",
        "G[1][2]['weight'] = 4.7\n",
        "G.edges[3, 4]['weight'] = 4.2"
      ],
      "execution_count": null,
      "outputs": []
    },
    {
      "cell_type": "markdown",
      "metadata": {
        "id": "U3DuoxL0syhZ",
        "colab_type": "text"
      },
      "source": [
        "O atributo especial `weight` (peso) deve ser um atributo numérico\n",
        "pos é utilizado para a realização de cálculos utilizando os grafos"
      ]
    },
    {
      "cell_type": "markdown",
      "metadata": {
        "id": "UjKSrrtEsyhb",
        "colab_type": "text"
      },
      "source": [
        "# Geradores de grafos e operações com grafos\n",
        "\n",
        "Grafos podem ser gerados, além da adição pontual de nós e arestas,\n",
        "através dos seguintes métodos\n",
        "\n",
        "1. Aplicando operações clássicas, como:\n",
        "\n",
        "   ```\n",
        "   subgraph(G, nbunch)      - induced subgraph view of G on nodes in nbunch\n",
        "   union(G1,G2)             - graph union\n",
        "   disjoint_union(G1,G2)    - graph union assuming all nodes are different\n",
        "   cartesian_product(G1,G2) - return Cartesian product graph\n",
        "   compose(G1,G2)           - combine graphs identifying nodes common to both\n",
        "   complement(G)            - graph complement\n",
        "   create_empty_copy(G)     - return an empty copy of the same graph class\n",
        "   to_undirected(G) - return an undirected representation of G\n",
        "   to_directed(G)   - return a directed representation of G\n",
        "   ```\n",
        "\n",
        "1. Usando uma chamada para um dos grafos clássicos, por exemplo,"
      ]
    },
    {
      "cell_type": "code",
      "metadata": {
        "id": "KhdAimcbsyhd",
        "colab_type": "code",
        "colab": {}
      },
      "source": [
        "petersen = nx.petersen_graph()\n",
        "tutte = nx.tutte_graph()\n",
        "maze = nx.sedgewick_maze_graph()\n",
        "tet = nx.tetrahedral_graph()"
      ],
      "execution_count": null,
      "outputs": []
    },
    {
      "cell_type": "markdown",
      "metadata": {
        "id": "vgD3rySysyhh",
        "colab_type": "text"
      },
      "source": [
        "3. Usando um gerador (construtivo) para um grafo clássico, por exemplo,"
      ]
    },
    {
      "cell_type": "code",
      "metadata": {
        "id": "8kZg5mu6syhh",
        "colab_type": "code",
        "colab": {}
      },
      "source": [
        "K_5 = nx.complete_graph(5)\n",
        "K_3_5 = nx.complete_bipartite_graph(3, 5)\n",
        "barbell = nx.barbell_graph(10, 10)\n",
        "lollipop = nx.lollipop_graph(10, 20)"
      ],
      "execution_count": null,
      "outputs": []
    },
    {
      "cell_type": "markdown",
      "metadata": {
        "id": "K8MyUR_osyhj",
        "colab_type": "text"
      },
      "source": [
        "4. Usando um gerador de gráfico estocástico, por exemplo,"
      ]
    },
    {
      "cell_type": "code",
      "metadata": {
        "id": "47oIIYFvsyhk",
        "colab_type": "code",
        "colab": {}
      },
      "source": [
        "er = nx.erdos_renyi_graph(100, 0.15)\n",
        "ws = nx.watts_strogatz_graph(30, 3, 0.1)\n",
        "ba = nx.barabasi_albert_graph(100, 5)\n",
        "red = nx.random_lobster(100, 0.9, 0.9)"
      ],
      "execution_count": null,
      "outputs": []
    },
    {
      "cell_type": "markdown",
      "metadata": {
        "id": "kLEVX9uasyhm",
        "colab_type": "text"
      },
      "source": [
        "# Analisando grafos\n",
        "\n",
        "A estrutura de `G` pode ser analisada usando várias técnicas\n",
        "e funções como:"
      ]
    },
    {
      "cell_type": "code",
      "metadata": {
        "id": "itiGyU5Gsyhm",
        "colab_type": "code",
        "colab": {}
      },
      "source": [
        "G = nx.Graph()\n",
        "G.add_edges_from([(1, 2), (1, 3)])\n",
        "G.add_node(\"spam\")       # adds node \"spam\"\n",
        "print(list(nx.connected_components(G)))\n",
        "print(sorted(d for n, d in G.degree()))\n",
        "print(nx.clustering(G))"
      ],
      "execution_count": null,
      "outputs": []
    },
    {
      "cell_type": "markdown",
      "metadata": {
        "id": "6Cjyb2a1syhn",
        "colab_type": "text"
      },
      "source": [
        "# Imprimindo grafos\n"
      ]
    },
    {
      "cell_type": "code",
      "metadata": {
        "id": "PQ_M1iTEsyho",
        "colab_type": "code",
        "colab": {}
      },
      "source": [
        "import matplotlib.pyplot as plt"
      ],
      "execution_count": null,
      "outputs": []
    },
    {
      "cell_type": "code",
      "metadata": {
        "id": "nqhWpRaKsyhp",
        "colab_type": "code",
        "colab": {}
      },
      "source": [
        "G = nx.petersen_graph()\n",
        "plt.subplot(121)\n",
        "nx.draw(G, with_labels=True, font_weight='bold')\n",
        "plt.subplot(122)\n",
        "nx.draw_shell(G, nlist=[range(5, 10), range(5)], with_labels=True, font_weight='bold')\n",
        "plt.show()"
      ],
      "execution_count": null,
      "outputs": []
    },
    {
      "cell_type": "code",
      "metadata": {
        "id": "meR8E6tksyht",
        "colab_type": "code",
        "colab": {}
      },
      "source": [
        "options = {\n",
        "    'node_color': 'black',\n",
        "    'node_size': 100,\n",
        "    'width': 3,\n",
        "}\n",
        "plt.subplot(221)\n",
        "nx.draw_random(G, **options)\n",
        "plt.subplot(222)\n",
        "nx.draw_circular(G, **options)\n",
        "plt.subplot(223)\n",
        "nx.draw_spectral(G, **options)\n",
        "plt.subplot(224)\n",
        "nx.draw_shell(G, nlist=[range(5,10), range(5)], **options)"
      ],
      "execution_count": null,
      "outputs": []
    },
    {
      "cell_type": "code",
      "metadata": {
        "id": "5_ljitS1syhv",
        "colab_type": "code",
        "colab": {}
      },
      "source": [
        "G = nx.dodecahedral_graph()\n",
        "shells = [[2, 3, 4, 5, 6], [8, 1, 0, 19, 18, 17, 16, 15, 14, 7], [9, 10, 11, 12, 13]]\n",
        "nx.draw_shell(G, nlist=shells, **options)"
      ],
      "execution_count": null,
      "outputs": []
    },
    {
      "cell_type": "code",
      "metadata": {
        "id": "62w6MCTQsyhw",
        "colab_type": "code",
        "colab": {}
      },
      "source": [
        "nx.draw(G)\n",
        "plt.savefig(\"path.png\")"
      ],
      "execution_count": null,
      "outputs": []
    },
    {
      "cell_type": "markdown",
      "metadata": {
        "id": "meyis9jssyhy",
        "colab_type": "text"
      },
      "source": [
        "writes to the file `path.png` in the local directory. If Graphviz and\n",
        "PyGraphviz or pydot, are available on your system, you can also use\n",
        "`nx_agraph.graphviz_layout(G)` or `nx_pydot.graphviz_layout(G)` to get the\n",
        "node positions, or write the graph in dot format for further processing."
      ]
    },
    {
      "cell_type": "code",
      "metadata": {
        "id": "hbCRmvoEsyhy",
        "colab_type": "code",
        "colab": {}
      },
      "source": [
        "!pip install pygraphviz\n",
        "\n",
        "from networkx.drawing.nx_pydot import write_dot\n",
        "pos = nx.nx_agraph.graphviz_layout(G)\n",
        "nx.draw(G, pos=pos)\n",
        "write_dot(G, 'file.dot')"
      ],
      "execution_count": null,
      "outputs": []
    }
  ]
}