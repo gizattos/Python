{
  "nbformat": 4,
  "nbformat_minor": 0,
  "metadata": {
    "colab": {
      "name": "Brincando com arquivos.ipynb",
      "provenance": [],
      "authorship_tag": "ABX9TyOWfXKsfMOoKcLYZmKfsmjZ",
      "include_colab_link": true
    },
    "kernelspec": {
      "name": "python3",
      "display_name": "Python 3"
    }
  },
  "cells": [
    {
      "cell_type": "markdown",
      "metadata": {
        "id": "view-in-github",
        "colab_type": "text"
      },
      "source": [
        "<a href=\"https://colab.research.google.com/github/gizattos/Python/blob/master/Brincando_com_arquivos.ipynb\" target=\"_parent\"><img src=\"https://colab.research.google.com/assets/colab-badge.svg\" alt=\"Open In Colab\"/></a>"
      ]
    },
    {
      "cell_type": "markdown",
      "metadata": {
        "id": "TpgZ2IQPuRil",
        "colab_type": "text"
      },
      "source": [
        "<h1>Ver caminho</h1>\n"
      ]
    },
    {
      "cell_type": "code",
      "metadata": {
        "id": "2EtfqK58sfde",
        "colab_type": "code",
        "colab": {
          "base_uri": "https://localhost:8080/",
          "height": 34
        },
        "outputId": "782f0d15-01b6-492b-c4a9-a69d17b86322"
      },
      "source": [
        "!pwd"
      ],
      "execution_count": 1,
      "outputs": [
        {
          "output_type": "stream",
          "text": [
            "/content\n"
          ],
          "name": "stdout"
        }
      ]
    },
    {
      "cell_type": "markdown",
      "metadata": {
        "id": "9s6B_UVnhwSu",
        "colab_type": "text"
      },
      "source": [
        "<h2>Abrindo arquivos texto para escrita</h2>"
      ]
    },
    {
      "cell_type": "code",
      "metadata": {
        "id": "YgPk-HyVsav0",
        "colab_type": "code",
        "colab": {}
      },
      "source": [
        "f = open('teste.txt','w')"
      ],
      "execution_count": 0,
      "outputs": []
    },
    {
      "cell_type": "markdown",
      "metadata": {
        "id": "nhU4ly_rvWcr",
        "colab_type": "text"
      },
      "source": [
        "<h2>Escrevendo em arquivos</h2>"
      ]
    },
    {
      "cell_type": "code",
      "metadata": {
        "id": "fJGKiX1PvZs3",
        "colab_type": "code",
        "colab": {}
      },
      "source": [
        "f.write('escrevendo dentro do arquivo!')\n",
        "f.close()"
      ],
      "execution_count": 0,
      "outputs": []
    },
    {
      "cell_type": "markdown",
      "metadata": {
        "id": "s8KJ4-1zubDE",
        "colab_type": "text"
      },
      "source": [
        "<h2>Abrindo o arquivo para leitura e mostrando texto presente no arquivo</h2>"
      ]
    },
    {
      "cell_type": "code",
      "metadata": {
        "id": "Mq_rFgoqufra",
        "colab_type": "code",
        "colab": {
          "base_uri": "https://localhost:8080/",
          "height": 34
        },
        "outputId": "c704e2a0-8634-4f6b-f462-6111d030db34"
      },
      "source": [
        "f = open('teste.txt','r')\n",
        "texto = f.read()\n",
        "print(texto)\n",
        "f.close()"
      ],
      "execution_count": 22,
      "outputs": [
        {
          "output_type": "stream",
          "text": [
            "escrevendo dentro do arquivo!\n"
          ],
          "name": "stdout"
        }
      ]
    },
    {
      "cell_type": "markdown",
      "metadata": {
        "id": "cx2KEpoey6c0",
        "colab_type": "text"
      },
      "source": [
        "<h2>Lendo CSV</h2>"
      ]
    },
    {
      "cell_type": "code",
      "metadata": {
        "id": "TwLslShIz9Br",
        "colab_type": "code",
        "colab": {
          "base_uri": "https://localhost:8080/",
          "height": 34
        },
        "outputId": "712fd0c7-2034-4144-dd54-51f6cb89f836"
      },
      "source": [
        "import csv\n",
        "with open('csv.csv','r') as csv_file:\n",
        "  file_csv = csv.reader(csv_file,delimiter=',')\n",
        "  for row in file_csv:\n",
        "    print(row)"
      ],
      "execution_count": 30,
      "outputs": [
        {
          "output_type": "stream",
          "text": [
            "['nometeste', '20', 'teste@gmail.com']\n"
          ],
          "name": "stdout"
        }
      ]
    },
    {
      "cell_type": "markdown",
      "metadata": {
        "id": "ZmjfZEDo2cje",
        "colab_type": "text"
      },
      "source": [
        "<h2>Mostrando terceira coluna do CSV</h2>"
      ]
    },
    {
      "cell_type": "code",
      "metadata": {
        "id": "-cggPk8n6qmg",
        "colab_type": "code",
        "colab": {
          "base_uri": "https://localhost:8080/",
          "height": 34
        },
        "outputId": "38c383ad-8fd9-4242-998f-e0d6484ad9b0"
      },
      "source": [
        "with open('csv.csv','r') as csv_file:\n",
        "  file_csv = csv.reader(csv_file,delimiter=',')\n",
        "  for row in file_csv:\n",
        "    print(row[2])"
      ],
      "execution_count": 31,
      "outputs": [
        {
          "output_type": "stream",
          "text": [
            "teste@gmail.com\n"
          ],
          "name": "stdout"
        }
      ]
    },
    {
      "cell_type": "markdown",
      "metadata": {
        "id": "WKRzqy5C72wj",
        "colab_type": "text"
      },
      "source": [
        "<h2>Escrevendo no csv</h2>"
      ]
    },
    {
      "cell_type": "code",
      "metadata": {
        "id": "CU6-F9iq76mO",
        "colab_type": "code",
        "colab": {
          "base_uri": "https://localhost:8080/",
          "height": 51
        },
        "outputId": "17c49a59-9058-44b3-eb0e-bf2923f7ed8b"
      },
      "source": [
        "with open('csv.csv','w') as csv_file:\n",
        "  file_csv = csv.writer(csv_file,delimiter=',',quotechar='\"')\n",
        "  file_csv.writerow(['nometeste','20','teste@gmail.com'])\n",
        "  file_csv.writerow(['nometeste2','50','teste2@gmail.com'])\n",
        "with open('csv.csv','r') as csv_file:\n",
        "  file_csv = csv.reader(csv_file,delimiter=',')\n",
        "  for row in file_csv:\n",
        "    print(row)\n"
      ],
      "execution_count": 32,
      "outputs": [
        {
          "output_type": "stream",
          "text": [
            "['nometeste', '20', 'teste@gmail.com']\n",
            "['nometeste2', '50', 'teste2@gmail.com']\n"
          ],
          "name": "stdout"
        }
      ]
    }
  ]
}