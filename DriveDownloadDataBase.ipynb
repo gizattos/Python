{
  "nbformat": 4,
  "nbformat_minor": 0,
  "metadata": {
    "colab": {
      "name": "DriveDownloadDataBase.ipynb",
      "provenance": [],
      "authorship_tag": "ABX9TyN7E2RLjDkOyzEF5UAIfa1J",
      "include_colab_link": true
    },
    "kernelspec": {
      "name": "python3",
      "display_name": "Python 3"
    }
  },
  "cells": [
    {
      "cell_type": "markdown",
      "metadata": {
        "id": "view-in-github",
        "colab_type": "text"
      },
      "source": [
        "<a href=\"https://colab.research.google.com/github/gizattos/Python/blob/master/DriveDownloadDataBase.ipynb\" target=\"_parent\"><img src=\"https://colab.research.google.com/assets/colab-badge.svg\" alt=\"Open In Colab\"/></a>"
      ]
    },
    {
      "cell_type": "code",
      "metadata": {
        "id": "w_g96-yFetdW",
        "colab_type": "code",
        "colab": {
          "base_uri": "https://localhost:8080/",
          "height": 51
        },
        "outputId": "d38e7f2f-021f-413d-ed65-2a34187bc35d"
      },
      "source": [
        "## bibliotecas \n",
        "import pandas as pd\n",
        "import warnings\n",
        "import sklearn\n",
        "import numpy as np\n",
        "import seaborn as sns\n",
        "import matplotlib.pyplot as plt\n",
        "from os import path\n",
        "from PIL import Image\n",
        "import os\n",
        "# import squarify  \n",
        "# from wordcloud import WordCloud, STOPWORDS, ImageColorGenerator\n",
        "warnings.filterwarnings('ignore')\n",
        "##pd.set_option('display.max_rows', 100)"
      ],
      "execution_count": 1,
      "outputs": [
        {
          "output_type": "stream",
          "text": [
            "/usr/local/lib/python3.6/dist-packages/statsmodels/tools/_testing.py:19: FutureWarning: pandas.util.testing is deprecated. Use the functions in the public API at pandas.testing instead.\n",
            "  import pandas.util.testing as tm\n"
          ],
          "name": "stderr"
        }
      ]
    },
    {
      "cell_type": "code",
      "metadata": {
        "id": "48nguZ7AhVxA",
        "colab_type": "code",
        "colab": {
          "base_uri": "https://localhost:8080/",
          "height": 122
        },
        "outputId": "4d73ce4e-a4a2-49f0-e10b-1d1642bf7b31"
      },
      "source": [
        "from google.colab import drive\n",
        "drive.mount('/content/drive/')\n"
      ],
      "execution_count": 2,
      "outputs": [
        {
          "output_type": "stream",
          "text": [
            "Go to this URL in a browser: https://accounts.google.com/o/oauth2/auth?client_id=947318989803-6bn6qk8qdgf4n4g3pfee6491hc0brc4i.apps.googleusercontent.com&redirect_uri=urn%3aietf%3awg%3aoauth%3a2.0%3aoob&response_type=code&scope=email%20https%3a%2f%2fwww.googleapis.com%2fauth%2fdocs.test%20https%3a%2f%2fwww.googleapis.com%2fauth%2fdrive%20https%3a%2f%2fwww.googleapis.com%2fauth%2fdrive.photos.readonly%20https%3a%2f%2fwww.googleapis.com%2fauth%2fpeopleapi.readonly\n",
            "\n",
            "Enter your authorization code:\n",
            "··········\n",
            "Mounted at /content/drive/\n"
          ],
          "name": "stdout"
        }
      ]
    },
    {
      "cell_type": "code",
      "metadata": {
        "id": "fTHnghOWCq0w",
        "colab_type": "code",
        "colab": {}
      },
      "source": [
        "def procura_drive(diretorio):\n",
        "  file_path_xls=\"\"\n",
        "  output = [dI for dI in os.listdir(diretorio) if os.path.isdir(os.path.join(diretorio,dI))]\n",
        "  for pasta in output :\n",
        "    file_path = diretorio +\"/\"+pasta\n",
        "    lst = os.listdir(file_path)\n",
        "    matching = [s for s in lst if '.xls' in s]\n",
        "    for file in matching:\n",
        "      file_path_xls += file_path+\"/\"+file+\",\"\n",
        "  file_path_xls_list = file_path_xls.split(sep=\",\")\n",
        "  return file_path_xls_list"
      ],
      "execution_count": 4,
      "outputs": []
    },
    {
      "cell_type": "code",
      "metadata": {
        "id": "4kV27lym83Y7",
        "colab_type": "code",
        "colab": {}
      },
      "source": [
        "arquivos = procura_drive(\"/content/drive/Shared drives/Confirma/Ceptis/5. Dados Brutos/2019\")"
      ],
      "execution_count": 5,
      "outputs": []
    },
    {
      "cell_type": "code",
      "metadata": {
        "id": "-rk1-b1JAxRN",
        "colab_type": "code",
        "colab": {}
      },
      "source": [
        "str_list = list(filter(None, arquivos))"
      ],
      "execution_count": 13,
      "outputs": []
    },
    {
      "cell_type": "code",
      "metadata": {
        "id": "9PB8rPKAKVrP",
        "colab_type": "code",
        "colab": {}
      },
      "source": [
        "df2=\"\"\n",
        "for arquivo in str_list:\n",
        "  df1 = pd.read_excel(arquivo)\n",
        "  if (isinstance(df2, pd.DataFrame)):\n",
        "    df2 = pd.concat([df1,df2], axis=0, ignore_index=True)\n",
        "  else:\n",
        "    df2 = df1"
      ],
      "execution_count": 17,
      "outputs": []
    },
    {
      "cell_type": "code",
      "metadata": {
        "id": "kSZLF-SaKqyU",
        "colab_type": "code",
        "colab": {
          "base_uri": "https://localhost:8080/",
          "height": 479
        },
        "outputId": "119e8041-6581-48fc-b0db-b98d7b9c0d6d"
      },
      "source": [
        "df2.head()"
      ],
      "execution_count": 20,
      "outputs": [
        {
          "output_type": "execute_result",
          "data": {
            "text/html": [
              "<div>\n",
              "<style scoped>\n",
              "    .dataframe tbody tr th:only-of-type {\n",
              "        vertical-align: middle;\n",
              "    }\n",
              "\n",
              "    .dataframe tbody tr th {\n",
              "        vertical-align: top;\n",
              "    }\n",
              "\n",
              "    .dataframe thead th {\n",
              "        text-align: right;\n",
              "    }\n",
              "</style>\n",
              "<table border=\"1\" class=\"dataframe\">\n",
              "  <thead>\n",
              "    <tr style=\"text-align: right;\">\n",
              "      <th></th>\n",
              "      <th>Ordem</th>\n",
              "      <th>Canal</th>\n",
              "      <th>Mídia</th>\n",
              "      <th>Link</th>\n",
              "      <th>Data</th>\n",
              "      <th>Autor ID</th>\n",
              "      <th>Autor Nome</th>\n",
              "      <th>Autor Link</th>\n",
              "      <th>Autor Imagem</th>\n",
              "      <th>Seguidores/Inscritos</th>\n",
              "      <th>Título</th>\n",
              "      <th>Conteúdo</th>\n",
              "      <th>ID</th>\n",
              "      <th>Polaridade</th>\n",
              "      <th>Genero</th>\n",
              "      <th>Curtidas/Gostei</th>\n",
              "      <th>Amei</th>\n",
              "      <th>Haha</th>\n",
              "      <th>Uau</th>\n",
              "      <th>Triste</th>\n",
              "      <th>Raiva</th>\n",
              "      <th>Outras Reações</th>\n",
              "      <th>Total de Reações</th>\n",
              "      <th>Comentários</th>\n",
              "      <th>Compartilhamentos</th>\n",
              "      <th>Imagem</th>\n",
              "      <th>Grupos</th>\n",
              "      <th>Polaridade dos Grupos</th>\n",
              "      <th>Temas</th>\n",
              "      <th>Tags</th>\n",
              "      <th>Página</th>\n",
              "    </tr>\n",
              "  </thead>\n",
              "  <tbody>\n",
              "    <tr>\n",
              "      <th>0</th>\n",
              "      <td>1</td>\n",
              "      <td>Comentários no Facebook</td>\n",
              "      <td>pt-br.facebook.com</td>\n",
              "      <td>https://pt-br.facebook.com/2830358597026827_28...</td>\n",
              "      <td>31/12/2019 23:56</td>\n",
              "      <td>NaN</td>\n",
              "      <td>Usuário anônimo</td>\n",
              "      <td>https://www.facebook.com/2830358597026827_2834...</td>\n",
              "      <td>NaN</td>\n",
              "      <td>Indisponível</td>\n",
              "      <td>NaN</td>\n",
              "      <td>E os precatórios, vai pagar quando???</td>\n",
              "      <td>2830358597026827_2834494616613225</td>\n",
              "      <td>Neutro</td>\n",
              "      <td>NaN</td>\n",
              "      <td>0</td>\n",
              "      <td>NaN</td>\n",
              "      <td>NaN</td>\n",
              "      <td>NaN</td>\n",
              "      <td>NaN</td>\n",
              "      <td>NaN</td>\n",
              "      <td>0.0</td>\n",
              "      <td>NaN</td>\n",
              "      <td>0</td>\n",
              "      <td>0</td>\n",
              "      <td>NaN</td>\n",
              "      <td>[ \"Insight de Negócios\"]</td>\n",
              "      <td>[ \"Neutro\"]</td>\n",
              "      <td>[ \"Digital\" , \"Dinheiro\"]</td>\n",
              "      <td>[ ]</td>\n",
              "      <td>NaN</td>\n",
              "    </tr>\n",
              "    <tr>\n",
              "      <th>1</th>\n",
              "      <td>2</td>\n",
              "      <td>Comentários no YouTube</td>\n",
              "      <td>www.youtube.com</td>\n",
              "      <td>https://www.youtube.com/watch?v=g9GumjeZ1lE&amp;lc...</td>\n",
              "      <td>31/12/2019 23:55</td>\n",
              "      <td>Francisco Alberto Firmo</td>\n",
              "      <td>Francisco Alberto Firmo</td>\n",
              "      <td>http://www.youtube.com/channel/UCzbAblUmpoTigo...</td>\n",
              "      <td>https://yt3.ggpht.com/a/AGF-l79g2NLkZxhkPCNd1b...</td>\n",
              "      <td>Indisponível</td>\n",
              "      <td>NaN</td>\n",
              "      <td>Olá, tenho uma cedula de 10 reais com defeito ...</td>\n",
              "      <td>UgwEKQ9l2Jc30J7b7gt4AaABAg</td>\n",
              "      <td>Neutro</td>\n",
              "      <td>Homem</td>\n",
              "      <td>0</td>\n",
              "      <td>NaN</td>\n",
              "      <td>NaN</td>\n",
              "      <td>NaN</td>\n",
              "      <td>NaN</td>\n",
              "      <td>NaN</td>\n",
              "      <td>0.0</td>\n",
              "      <td>NaN</td>\n",
              "      <td>0</td>\n",
              "      <td>0</td>\n",
              "      <td>NaN</td>\n",
              "      <td>[ \"Insight de Negócios\"]</td>\n",
              "      <td>[ \"Neutro\"]</td>\n",
              "      <td>[ \"Dinheiro\"]</td>\n",
              "      <td>[ ]</td>\n",
              "      <td>NaN</td>\n",
              "    </tr>\n",
              "    <tr>\n",
              "      <th>2</th>\n",
              "      <td>3</td>\n",
              "      <td>Twitter</td>\n",
              "      <td>twitter.com</td>\n",
              "      <td>https://twitter.com/gabs__mo/status/1212205334...</td>\n",
              "      <td>31/12/2019 23:54</td>\n",
              "      <td>gabs__mo</td>\n",
              "      <td>gabriela moreno</td>\n",
              "      <td>https://twitter.com/gabs__mo</td>\n",
              "      <td>https://pbs.twimg.com/profile_images/121198955...</td>\n",
              "      <td>414</td>\n",
              "      <td>NaN</td>\n",
              "      <td>e eu que ganhei uma árvore de dinheiro falso d...</td>\n",
              "      <td>1212205334422589440</td>\n",
              "      <td>Neutro</td>\n",
              "      <td>Homem</td>\n",
              "      <td>0</td>\n",
              "      <td>NaN</td>\n",
              "      <td>NaN</td>\n",
              "      <td>NaN</td>\n",
              "      <td>NaN</td>\n",
              "      <td>NaN</td>\n",
              "      <td>0.0</td>\n",
              "      <td>NaN</td>\n",
              "      <td>0</td>\n",
              "      <td>0</td>\n",
              "      <td>NaN</td>\n",
              "      <td>[ \"Insight de Negócios\"]</td>\n",
              "      <td>[ \"Neutro\"]</td>\n",
              "      <td>[ \"Tintas de segurança\" , \"Dinheiro\"]</td>\n",
              "      <td>[ ]</td>\n",
              "      <td>NaN</td>\n",
              "    </tr>\n",
              "    <tr>\n",
              "      <th>3</th>\n",
              "      <td>4</td>\n",
              "      <td>Twitter</td>\n",
              "      <td>twitter.com</td>\n",
              "      <td>https://twitter.com/jivqc/status/1212204563589...</td>\n",
              "      <td>31/12/2019 23:51</td>\n",
              "      <td>jivqc</td>\n",
              "      <td>¡Живаго•Jivago!</td>\n",
              "      <td>https://twitter.com/jivqc</td>\n",
              "      <td>https://pbs.twimg.com/profile_images/100553736...</td>\n",
              "      <td>64</td>\n",
              "      <td>NaN</td>\n",
              "      <td>@opampa1 @EmpacotadorP É uma simpatia praticad...</td>\n",
              "      <td>1212204563589140481</td>\n",
              "      <td>Positivo</td>\n",
              "      <td>NaN</td>\n",
              "      <td>0</td>\n",
              "      <td>NaN</td>\n",
              "      <td>NaN</td>\n",
              "      <td>NaN</td>\n",
              "      <td>NaN</td>\n",
              "      <td>NaN</td>\n",
              "      <td>0.0</td>\n",
              "      <td>NaN</td>\n",
              "      <td>0</td>\n",
              "      <td>0</td>\n",
              "      <td>NaN</td>\n",
              "      <td>[ \"Insight de Negócios\"]</td>\n",
              "      <td>[ \"Neutro\"]</td>\n",
              "      <td>[ \"Dinheiro\"]</td>\n",
              "      <td>[ ]</td>\n",
              "      <td>NaN</td>\n",
              "    </tr>\n",
              "    <tr>\n",
              "      <th>4</th>\n",
              "      <td>5</td>\n",
              "      <td>Twitter</td>\n",
              "      <td>twitter.com</td>\n",
              "      <td>https://twitter.com/zapwarudo/status/121220429...</td>\n",
              "      <td>31/12/2019 23:50</td>\n",
              "      <td>zapwarudo</td>\n",
              "      <td>fodase 2020 hinata enois</td>\n",
              "      <td>https://twitter.com/zapwarudo</td>\n",
              "      <td>https://pbs.twimg.com/profile_images/121219644...</td>\n",
              "      <td>44</td>\n",
              "      <td>NaN</td>\n",
              "      <td>@rgfalso O PRIMEIRO MEU DEUS BELO E MORAL eu f...</td>\n",
              "      <td>1212204294423941121</td>\n",
              "      <td>Negativo</td>\n",
              "      <td>Mulher</td>\n",
              "      <td>0</td>\n",
              "      <td>NaN</td>\n",
              "      <td>NaN</td>\n",
              "      <td>NaN</td>\n",
              "      <td>NaN</td>\n",
              "      <td>NaN</td>\n",
              "      <td>0.0</td>\n",
              "      <td>NaN</td>\n",
              "      <td>0</td>\n",
              "      <td>0</td>\n",
              "      <td>NaN</td>\n",
              "      <td>[ \"Insight de Negócios\"]</td>\n",
              "      <td>[ \"Neutro\"]</td>\n",
              "      <td>[ \"Tintas de segurança\"]</td>\n",
              "      <td>[ ]</td>\n",
              "      <td>NaN</td>\n",
              "    </tr>\n",
              "  </tbody>\n",
              "</table>\n",
              "</div>"
            ],
            "text/plain": [
              "   Ordem                    Canal  ... Tags Página\n",
              "0      1  Comentários no Facebook  ...  [ ]    NaN\n",
              "1      2   Comentários no YouTube  ...  [ ]    NaN\n",
              "2      3                  Twitter  ...  [ ]    NaN\n",
              "3      4                  Twitter  ...  [ ]    NaN\n",
              "4      5                  Twitter  ...  [ ]    NaN\n",
              "\n",
              "[5 rows x 31 columns]"
            ]
          },
          "metadata": {
            "tags": []
          },
          "execution_count": 20
        }
      ]
    },
    {
      "cell_type": "code",
      "metadata": {
        "id": "3I2Des7SMEwx",
        "colab_type": "code",
        "colab": {}
      },
      "source": [
        "df_unico.to_excel(\"ceptis_2019.xlsx\")"
      ],
      "execution_count": null,
      "outputs": []
    }
  ]
}